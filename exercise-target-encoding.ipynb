{
 "cells": [
  {
   "cell_type": "markdown",
   "id": "1e13d7a9",
   "metadata": {
    "papermill": {
     "duration": 0.008977,
     "end_time": "2022-07-14T12:20:19.683372",
     "exception": false,
     "start_time": "2022-07-14T12:20:19.674395",
     "status": "completed"
    },
    "tags": []
   },
   "source": [
    "**This notebook is an exercise in the [Feature Engineering](https://www.kaggle.com/learn/feature-engineering) course.  You can reference the tutorial at [this link](https://www.kaggle.com/ryanholbrook/target-encoding).**\n",
    "\n",
    "---\n"
   ]
  },
  {
   "cell_type": "markdown",
   "id": "3c899723",
   "metadata": {
    "papermill": {
     "duration": 0.007795,
     "end_time": "2022-07-14T12:20:19.699244",
     "exception": false,
     "start_time": "2022-07-14T12:20:19.691449",
     "status": "completed"
    },
    "tags": []
   },
   "source": [
    "# Introduction #\n",
    "\n",
    "In this exercise, you'll apply target encoding to features in the [*Ames*](https://www.kaggle.com/c/house-prices-advanced-regression-techniques/data) dataset.\n",
    "\n",
    "Run this cell to set everything up!"
   ]
  },
  {
   "cell_type": "code",
   "execution_count": 1,
   "id": "5d53e472",
   "metadata": {
    "execution": {
     "iopub.execute_input": "2022-07-14T12:20:19.718340Z",
     "iopub.status.busy": "2022-07-14T12:20:19.717737Z",
     "iopub.status.idle": "2022-07-14T12:20:21.578116Z",
     "shell.execute_reply": "2022-07-14T12:20:21.576958Z"
    },
    "papermill": {
     "duration": 1.873432,
     "end_time": "2022-07-14T12:20:21.580861",
     "exception": false,
     "start_time": "2022-07-14T12:20:19.707429",
     "status": "completed"
    },
    "tags": []
   },
   "outputs": [],
   "source": [
    "# Setup feedback system\n",
    "from learntools.core import binder\n",
    "binder.bind(globals())\n",
    "from learntools.feature_engineering_new.ex6 import *\n",
    "\n",
    "import matplotlib.pyplot as plt\n",
    "import numpy as np\n",
    "import pandas as pd\n",
    "import seaborn as sns\n",
    "import warnings\n",
    "from category_encoders import MEstimateEncoder\n",
    "from sklearn.model_selection import cross_val_score\n",
    "from xgboost import XGBRegressor\n",
    "\n",
    "# Set Matplotlib defaults\n",
    "plt.style.use(\"seaborn-whitegrid\")\n",
    "plt.rc(\"figure\", autolayout=True)\n",
    "plt.rc(\n",
    "    \"axes\",\n",
    "    labelweight=\"bold\",\n",
    "    labelsize=\"large\",\n",
    "    titleweight=\"bold\",\n",
    "    titlesize=14,\n",
    "    titlepad=10,\n",
    ")\n",
    "warnings.filterwarnings('ignore')\n",
    "\n",
    "\n",
    "def score_dataset(X, y, model=XGBRegressor()):\n",
    "    # Label encoding for categoricals\n",
    "    for colname in X.select_dtypes([\"category\", \"object\"]):\n",
    "        X[colname], _ = X[colname].factorize()\n",
    "    # Metric for Housing competition is RMSLE (Root Mean Squared Log Error)\n",
    "    score = cross_val_score(\n",
    "        model, X, y, cv=5, scoring=\"neg_mean_squared_log_error\",\n",
    "    )\n",
    "    score = -1 * score.mean()\n",
    "    score = np.sqrt(score)\n",
    "    return score\n",
    "\n",
    "\n",
    "df = pd.read_csv(\"../input/fe-course-data/ames.csv\")"
   ]
  },
  {
   "cell_type": "markdown",
   "id": "7b647863",
   "metadata": {
    "papermill": {
     "duration": 0.007822,
     "end_time": "2022-07-14T12:20:21.596929",
     "exception": false,
     "start_time": "2022-07-14T12:20:21.589107",
     "status": "completed"
    },
    "tags": []
   },
   "source": [
    "-------------------------------------------------------------------------------\n",
    "\n",
    "First you'll need to choose which features you want to apply a target encoding to. Categorical features with a large number of categories are often good candidates. Run this cell to see how many categories each categorical feature in the *Ames* dataset has."
   ]
  },
  {
   "cell_type": "code",
   "execution_count": 2,
   "id": "248ad1be",
   "metadata": {
    "execution": {
     "iopub.execute_input": "2022-07-14T12:20:21.614972Z",
     "iopub.status.busy": "2022-07-14T12:20:21.614571Z",
     "iopub.status.idle": "2022-07-14T12:20:21.654823Z",
     "shell.execute_reply": "2022-07-14T12:20:21.653846Z"
    },
    "papermill": {
     "duration": 0.052636,
     "end_time": "2022-07-14T12:20:21.657577",
     "exception": false,
     "start_time": "2022-07-14T12:20:21.604941",
     "status": "completed"
    },
    "tags": []
   },
   "outputs": [
    {
     "data": {
      "text/plain": [
       "MSSubClass       16\n",
       "MSZoning          7\n",
       "Street            2\n",
       "Alley             3\n",
       "LotShape          4\n",
       "LandContour       4\n",
       "Utilities         3\n",
       "LotConfig         5\n",
       "LandSlope         3\n",
       "Neighborhood     28\n",
       "Condition1        9\n",
       "Condition2        8\n",
       "BldgType          5\n",
       "HouseStyle        8\n",
       "OverallQual      10\n",
       "OverallCond       9\n",
       "RoofStyle         6\n",
       "RoofMatl          8\n",
       "Exterior1st      16\n",
       "Exterior2nd      17\n",
       "MasVnrType        5\n",
       "ExterQual         4\n",
       "ExterCond         5\n",
       "Foundation        6\n",
       "BsmtQual          6\n",
       "BsmtCond          6\n",
       "BsmtExposure      5\n",
       "BsmtFinType1      7\n",
       "BsmtFinType2      7\n",
       "Heating           6\n",
       "HeatingQC         5\n",
       "CentralAir        2\n",
       "Electrical        6\n",
       "KitchenQual       5\n",
       "Functional        8\n",
       "FireplaceQu       6\n",
       "GarageType        7\n",
       "GarageFinish      4\n",
       "GarageQual        6\n",
       "GarageCond        6\n",
       "PavedDrive        3\n",
       "PoolQC            5\n",
       "Fence             5\n",
       "MiscFeature       6\n",
       "SaleType         10\n",
       "SaleCondition     6\n",
       "dtype: int64"
      ]
     },
     "execution_count": 2,
     "metadata": {},
     "output_type": "execute_result"
    }
   ],
   "source": [
    "df.select_dtypes([\"object\"]).nunique()"
   ]
  },
  {
   "cell_type": "markdown",
   "id": "0f293053",
   "metadata": {
    "papermill": {
     "duration": 0.007914,
     "end_time": "2022-07-14T12:20:21.673657",
     "exception": false,
     "start_time": "2022-07-14T12:20:21.665743",
     "status": "completed"
    },
    "tags": []
   },
   "source": [
    "We talked about how the M-estimate encoding uses smoothing to improve estimates for rare categories. To see how many times a category occurs in the dataset, you can use the `value_counts` method. This cell shows the counts for `SaleType`, but you might want to consider others as well."
   ]
  },
  {
   "cell_type": "code",
   "execution_count": 3,
   "id": "efae229b",
   "metadata": {
    "execution": {
     "iopub.execute_input": "2022-07-14T12:20:21.691465Z",
     "iopub.status.busy": "2022-07-14T12:20:21.690809Z",
     "iopub.status.idle": "2022-07-14T12:20:21.702435Z",
     "shell.execute_reply": "2022-07-14T12:20:21.701348Z"
    },
    "papermill": {
     "duration": 0.023282,
     "end_time": "2022-07-14T12:20:21.704818",
     "exception": false,
     "start_time": "2022-07-14T12:20:21.681536",
     "status": "completed"
    },
    "tags": []
   },
   "outputs": [
    {
     "data": {
      "text/plain": [
       "WD       2536\n",
       "New       239\n",
       "COD        87\n",
       "ConLD      26\n",
       "CWD        12\n",
       "ConLI       9\n",
       "ConLw       8\n",
       "Oth         7\n",
       "Con         5\n",
       "VWD         1\n",
       "Name: SaleType, dtype: int64"
      ]
     },
     "execution_count": 3,
     "metadata": {},
     "output_type": "execute_result"
    }
   ],
   "source": [
    "df[\"SaleType\"].value_counts()"
   ]
  },
  {
   "cell_type": "markdown",
   "id": "d57658e9",
   "metadata": {
    "papermill": {
     "duration": 0.007902,
     "end_time": "2022-07-14T12:20:21.721158",
     "exception": false,
     "start_time": "2022-07-14T12:20:21.713256",
     "status": "completed"
    },
    "tags": []
   },
   "source": [
    "# 1) Choose Features for Encoding\n",
    "\n",
    "Which features did you identify for target encoding? After you've thought about your answer, run the next cell for some discussion."
   ]
  },
  {
   "cell_type": "code",
   "execution_count": 4,
   "id": "836c54e6",
   "metadata": {
    "execution": {
     "iopub.execute_input": "2022-07-14T12:20:21.739410Z",
     "iopub.status.busy": "2022-07-14T12:20:21.739044Z",
     "iopub.status.idle": "2022-07-14T12:20:21.747339Z",
     "shell.execute_reply": "2022-07-14T12:20:21.746165Z"
    },
    "papermill": {
     "duration": 0.02,
     "end_time": "2022-07-14T12:20:21.749353",
     "exception": false,
     "start_time": "2022-07-14T12:20:21.729353",
     "status": "completed"
    },
    "tags": []
   },
   "outputs": [
    {
     "data": {
      "application/javascript": [
       "parent.postMessage({\"jupyterEvent\": \"custom.exercise_interaction\", \"data\": {\"outcomeType\": 1, \"valueTowardsCompletion\": 0.3333333333333333, \"interactionType\": 1, \"questionType\": 4, \"questionId\": \"1_Q1\", \"learnToolsVersion\": \"0.3.4\", \"failureMessage\": \"\", \"exceptionClass\": \"\", \"trace\": \"\"}}, \"*\")"
      ],
      "text/plain": [
       "<IPython.core.display.Javascript object>"
      ]
     },
     "metadata": {},
     "output_type": "display_data"
    },
    {
     "data": {
      "text/markdown": [
       "<span style=\"color:#33cc33\">Correct:</span> \n",
       "\n",
       " The `Neighborhood` feature looks promising. It has the most categories of any feature, and several categories are rare. Others that could be worth considering are `SaleType`, `MSSubClass`, `Exterior1st`, `Exterior2nd`. In fact, almost any of the nominal features would be worth trying because of the prevalence of rare categories."
      ],
      "text/plain": [
       "Correct: \n",
       "\n",
       " The `Neighborhood` feature looks promising. It has the most categories of any feature, and several categories are rare. Others that could be worth considering are `SaleType`, `MSSubClass`, `Exterior1st`, `Exterior2nd`. In fact, almost any of the nominal features would be worth trying because of the prevalence of rare categories."
      ]
     },
     "metadata": {},
     "output_type": "display_data"
    }
   ],
   "source": [
    "# View the solution (Run this cell to receive credit!)\n",
    "q_1.check()"
   ]
  },
  {
   "cell_type": "markdown",
   "id": "30356c33",
   "metadata": {
    "papermill": {
     "duration": 0.008176,
     "end_time": "2022-07-14T12:20:21.766723",
     "exception": false,
     "start_time": "2022-07-14T12:20:21.758547",
     "status": "completed"
    },
    "tags": []
   },
   "source": [
    "-------------------------------------------------------------------------------\n",
    "\n",
    "Now you'll apply a target encoding to your choice of feature. As we discussed in the tutorial, to avoid overfitting, we need to fit the encoder on data heldout from the training set. Run this cell to create the encoding and training splits:"
   ]
  },
  {
   "cell_type": "code",
   "execution_count": 5,
   "id": "2a1ad590",
   "metadata": {
    "execution": {
     "iopub.execute_input": "2022-07-14T12:20:21.786233Z",
     "iopub.status.busy": "2022-07-14T12:20:21.785218Z",
     "iopub.status.idle": "2022-07-14T12:20:21.798851Z",
     "shell.execute_reply": "2022-07-14T12:20:21.797701Z"
    },
    "lines_to_next_cell": 2,
    "papermill": {
     "duration": 0.026385,
     "end_time": "2022-07-14T12:20:21.801577",
     "exception": false,
     "start_time": "2022-07-14T12:20:21.775192",
     "status": "completed"
    },
    "tags": []
   },
   "outputs": [],
   "source": [
    "# Encoding split\n",
    "X_encode = df.sample(frac=0.20, random_state=0)\n",
    "y_encode = X_encode.pop(\"SalePrice\")\n",
    "\n",
    "# Training split\n",
    "X_pretrain = df.drop(X_encode.index)\n",
    "y_train = X_pretrain.pop(\"SalePrice\")"
   ]
  },
  {
   "cell_type": "markdown",
   "id": "d530ed2c",
   "metadata": {
    "papermill": {
     "duration": 0.008475,
     "end_time": "2022-07-14T12:20:21.818786",
     "exception": false,
     "start_time": "2022-07-14T12:20:21.810311",
     "status": "completed"
    },
    "tags": []
   },
   "source": [
    "# 2) Apply M-Estimate Encoding\n",
    "\n",
    "Apply a target encoding to your choice of categorical features. Also choose a value for the smoothing parameter `m` (any value is okay for a correct answer)."
   ]
  },
  {
   "cell_type": "code",
   "execution_count": 6,
   "id": "312b00be",
   "metadata": {
    "execution": {
     "iopub.execute_input": "2022-07-14T12:20:21.838442Z",
     "iopub.status.busy": "2022-07-14T12:20:21.837644Z",
     "iopub.status.idle": "2022-07-14T12:20:21.922541Z",
     "shell.execute_reply": "2022-07-14T12:20:21.921394Z"
    },
    "lines_to_next_cell": 0,
    "papermill": {
     "duration": 0.097346,
     "end_time": "2022-07-14T12:20:21.924912",
     "exception": false,
     "start_time": "2022-07-14T12:20:21.827566",
     "status": "completed"
    },
    "tags": []
   },
   "outputs": [
    {
     "data": {
      "application/javascript": [
       "parent.postMessage({\"jupyterEvent\": \"custom.exercise_interaction\", \"data\": {\"outcomeType\": 1, \"valueTowardsCompletion\": 0.3333333333333333, \"interactionType\": 1, \"questionType\": 2, \"questionId\": \"2_Q2\", \"learnToolsVersion\": \"0.3.4\", \"failureMessage\": \"\", \"exceptionClass\": \"\", \"trace\": \"\"}}, \"*\")"
      ],
      "text/plain": [
       "<IPython.core.display.Javascript object>"
      ]
     },
     "metadata": {},
     "output_type": "display_data"
    },
    {
     "data": {
      "text/markdown": [
       "<span style=\"color:#33cc33\">Correct</span>"
      ],
      "text/plain": [
       "Correct"
      ]
     },
     "metadata": {},
     "output_type": "display_data"
    }
   ],
   "source": [
    "# YOUR CODE HERE: Create the MEstimateEncoder\n",
    "# Choose a set of features to encode and a value for m \n",
    "encoder = MEstimateEncoder(cols=[\"SaleType\"], m=5.0)\n",
    "\n",
    "\n",
    "# Fit the encoder on the encoding split\n",
    "encoder.fit(X_encode, y_encode)\n",
    "\n",
    "# Encode the training split\n",
    "X_train = encoder.transform(X_pretrain, y_train)\n",
    "\n",
    "\n",
    "# Check your answer\n",
    "q_2.check()"
   ]
  },
  {
   "cell_type": "code",
   "execution_count": 7,
   "id": "d2228a88",
   "metadata": {
    "execution": {
     "iopub.execute_input": "2022-07-14T12:20:21.944840Z",
     "iopub.status.busy": "2022-07-14T12:20:21.943902Z",
     "iopub.status.idle": "2022-07-14T12:20:21.948504Z",
     "shell.execute_reply": "2022-07-14T12:20:21.947707Z"
    },
    "lines_to_next_cell": 0,
    "papermill": {
     "duration": 0.01702,
     "end_time": "2022-07-14T12:20:21.950848",
     "exception": false,
     "start_time": "2022-07-14T12:20:21.933828",
     "status": "completed"
    },
    "tags": []
   },
   "outputs": [],
   "source": [
    "# Lines below will give you a hint or solution code\n",
    "#q_2.hint()\n",
    "#q_2.solution()"
   ]
  },
  {
   "cell_type": "markdown",
   "id": "852076a1",
   "metadata": {
    "papermill": {
     "duration": 0.008841,
     "end_time": "2022-07-14T12:20:21.968453",
     "exception": false,
     "start_time": "2022-07-14T12:20:21.959612",
     "status": "completed"
    },
    "tags": []
   },
   "source": [
    "If you'd like to see how the encoded feature compares to the target, you can run this cell:"
   ]
  },
  {
   "cell_type": "code",
   "execution_count": 8,
   "id": "28060597",
   "metadata": {
    "execution": {
     "iopub.execute_input": "2022-07-14T12:20:21.989324Z",
     "iopub.status.busy": "2022-07-14T12:20:21.988532Z",
     "iopub.status.idle": "2022-07-14T12:20:22.374272Z",
     "shell.execute_reply": "2022-07-14T12:20:22.373115Z"
    },
    "papermill": {
     "duration": 0.399189,
     "end_time": "2022-07-14T12:20:22.376662",
     "exception": false,
     "start_time": "2022-07-14T12:20:21.977473",
     "status": "completed"
    },
    "tags": []
   },
   "outputs": [
    {
     "data": {
      "image/png": "[encoded data removed]",
      "text/plain": [
       "<Figure size 540x360 with 1 Axes>"
      ]
     },
     "metadata": {},
     "output_type": "display_data"
    }
   ],
   "source": [
    "feature = encoder.cols\n",
    "\n",
    "plt.figure(dpi=90)\n",
    "ax = sns.distplot(y_train, kde=True, hist=False)\n",
    "ax = sns.distplot(X_train[feature], color='r', ax=ax, hist=True, kde=False, norm_hist=True)\n",
    "ax.set_xlabel(\"SalePrice\");"
   ]
  },
  {
   "cell_type": "markdown",
   "id": "b2af0796",
   "metadata": {
    "papermill": {
     "duration": 0.008666,
     "end_time": "2022-07-14T12:20:22.394513",
     "exception": false,
     "start_time": "2022-07-14T12:20:22.385847",
     "status": "completed"
    },
    "tags": []
   },
   "source": [
    "From the distribution plots, does it seem like the encoding is informative?\n",
    "\n",
    "And this cell will show you the score of the encoded set compared to the original set:"
   ]
  },
  {
   "cell_type": "code",
   "execution_count": 9,
   "id": "dd24a4ad",
   "metadata": {
    "execution": {
     "iopub.execute_input": "2022-07-14T12:20:22.414581Z",
     "iopub.status.busy": "2022-07-14T12:20:22.414006Z",
     "iopub.status.idle": "2022-07-14T12:20:31.144513Z",
     "shell.execute_reply": "2022-07-14T12:20:31.143479Z"
    },
    "papermill": {
     "duration": 8.744346,
     "end_time": "2022-07-14T12:20:31.147822",
     "exception": false,
     "start_time": "2022-07-14T12:20:22.403476",
     "status": "completed"
    },
    "tags": []
   },
   "outputs": [
    {
     "name": "stdout",
     "output_type": "stream",
     "text": [
      "Baseline Score: 0.1428 RMSLE\n",
      "Score with Encoding: 0.1454 RMSLE\n"
     ]
    }
   ],
   "source": [
    "X = df.copy()\n",
    "y = X.pop(\"SalePrice\")\n",
    "score_base = score_dataset(X, y)\n",
    "score_new = score_dataset(X_train, y_train)\n",
    "\n",
    "print(f\"Baseline Score: {score_base:.4f} RMSLE\")\n",
    "print(f\"Score with Encoding: {score_new:.4f} RMSLE\")"
   ]
  },
  {
   "cell_type": "markdown",
   "id": "7587893b",
   "metadata": {
    "papermill": {
     "duration": 0.009069,
     "end_time": "2022-07-14T12:20:31.168312",
     "exception": false,
     "start_time": "2022-07-14T12:20:31.159243",
     "status": "completed"
    },
    "tags": []
   },
   "source": [
    "Do you think that target encoding was worthwhile in this case? Depending on which feature or features you chose, you may have ended up with a score significantly worse than the baseline. In that case, it's likely the extra information gained by the encoding couldn't make up for the loss of data used for the encoding."
   ]
  },
  {
   "cell_type": "markdown",
   "id": "76953e22",
   "metadata": {
    "papermill": {
     "duration": 0.009002,
     "end_time": "2022-07-14T12:20:31.186729",
     "exception": false,
     "start_time": "2022-07-14T12:20:31.177727",
     "status": "completed"
    },
    "tags": []
   },
   "source": [
    "-------------------------------------------------------------------------------\n",
    "\n",
    "In this question, you'll explore the problem of overfitting with target encodings. This will illustrate this importance of training fitting target encoders on data held-out from the training set.\n",
    "\n",
    "So let's see what happens when we fit the encoder and the model on the *same* dataset. To emphasize how dramatic the overfitting can be, we'll mean-encode a feature that should have no relationship with `SalePrice`, a count: `0, 1, 2, 3, 4, 5, ...`."
   ]
  },
  {
   "cell_type": "code",
   "execution_count": 10,
   "id": "9f1252b8",
   "metadata": {
    "execution": {
     "iopub.execute_input": "2022-07-14T12:20:31.207270Z",
     "iopub.status.busy": "2022-07-14T12:20:31.206856Z",
     "iopub.status.idle": "2022-07-14T12:20:35.386329Z",
     "shell.execute_reply": "2022-07-14T12:20:35.385105Z"
    },
    "papermill": {
     "duration": 4.193271,
     "end_time": "2022-07-14T12:20:35.389402",
     "exception": false,
     "start_time": "2022-07-14T12:20:31.196131",
     "status": "completed"
    },
    "tags": []
   },
   "outputs": [
    {
     "name": "stdout",
     "output_type": "stream",
     "text": [
      "Score: 0.0293 RMSLE\n"
     ]
    }
   ],
   "source": [
    "# Try experimenting with the smoothing parameter m\n",
    "# Try 0, 1, 5, 50\n",
    "m = 0\n",
    "\n",
    "X = df.copy()\n",
    "y = X.pop('SalePrice')\n",
    "\n",
    "# Create an uninformative feature\n",
    "X[\"Count\"] = range(len(X))\n",
    "X[\"Count\"][1] = 0  # actually need one duplicate value to circumvent error-checking in MEstimateEncoder\n",
    "\n",
    "# fit and transform on the same dataset\n",
    "encoder = MEstimateEncoder(cols=\"Count\", m=m)\n",
    "X = encoder.fit_transform(X, y)\n",
    "\n",
    "# Results\n",
    "score =  score_dataset(X, y)\n",
    "print(f\"Score: {score:.4f} RMSLE\")"
   ]
  },
  {
   "cell_type": "markdown",
   "id": "4e1eb697",
   "metadata": {
    "papermill": {
     "duration": 0.009055,
     "end_time": "2022-07-14T12:20:35.409315",
     "exception": false,
     "start_time": "2022-07-14T12:20:35.400260",
     "status": "completed"
    },
    "tags": []
   },
   "source": [
    "Almost a perfect score!"
   ]
  },
  {
   "cell_type": "code",
   "execution_count": 11,
   "id": "d979df3b",
   "metadata": {
    "execution": {
     "iopub.execute_input": "2022-07-14T12:20:35.429877Z",
     "iopub.status.busy": "2022-07-14T12:20:35.429454Z",
     "iopub.status.idle": "2022-07-14T12:20:39.622760Z",
     "shell.execute_reply": "2022-07-14T12:20:39.621862Z"
    },
    "papermill": {
     "duration": 4.206952,
     "end_time": "2022-07-14T12:20:39.625859",
     "exception": false,
     "start_time": "2022-07-14T12:20:35.418907",
     "status": "completed"
    },
    "tags": []
   },
   "outputs": [
    {
     "name": "stdout",
     "output_type": "stream",
     "text": [
      "Score: 0.0298 RMSLE\n"
     ]
    }
   ],
   "source": [
    "# Try 0, 1, 5, 50\n",
    "m = 1\n",
    "\n",
    "X = df.copy()\n",
    "y = X.pop('SalePrice')\n",
    "\n",
    "# Create an uninformative feature\n",
    "X[\"Count\"] = range(len(X))\n",
    "X[\"Count\"][1] = 0  # actually need one duplicate value to circumvent error-checking in MEstimateEncoder\n",
    "\n",
    "# fit and transform on the same dataset\n",
    "encoder = MEstimateEncoder(cols=\"Count\", m=m)\n",
    "X = encoder.fit_transform(X, y)\n",
    "\n",
    "# Results\n",
    "score =  score_dataset(X, y)\n",
    "print(f\"Score: {score:.4f} RMSLE\")"
   ]
  },
  {
   "cell_type": "code",
   "execution_count": 12,
   "id": "f6757ed4",
   "metadata": {
    "execution": {
     "iopub.execute_input": "2022-07-14T12:20:39.650461Z",
     "iopub.status.busy": "2022-07-14T12:20:39.649401Z",
     "iopub.status.idle": "2022-07-14T12:20:43.855181Z",
     "shell.execute_reply": "2022-07-14T12:20:43.854239Z"
    },
    "papermill": {
     "duration": 4.220272,
     "end_time": "2022-07-14T12:20:43.858061",
     "exception": false,
     "start_time": "2022-07-14T12:20:39.637789",
     "status": "completed"
    },
    "tags": []
   },
   "outputs": [
    {
     "name": "stdout",
     "output_type": "stream",
     "text": [
      "Score: 0.0291 RMSLE\n"
     ]
    }
   ],
   "source": [
    "# Try 0, 1, 5, 50\n",
    "m = 5\n",
    "\n",
    "X = df.copy()\n",
    "y = X.pop('SalePrice')\n",
    "\n",
    "# Create an uninformative feature\n",
    "X[\"Count\"] = range(len(X))\n",
    "X[\"Count\"][1] = 0  # actually need one duplicate value to circumvent error-checking in MEstimateEncoder\n",
    "\n",
    "# fit and transform on the same dataset\n",
    "encoder = MEstimateEncoder(cols=\"Count\", m=m)\n",
    "X = encoder.fit_transform(X, y)\n",
    "\n",
    "# Results\n",
    "score =  score_dataset(X, y)\n",
    "print(f\"Score: {score:.4f} RMSLE\")"
   ]
  },
  {
   "cell_type": "code",
   "execution_count": 13,
   "id": "f13fba52",
   "metadata": {
    "execution": {
     "iopub.execute_input": "2022-07-14T12:20:43.880237Z",
     "iopub.status.busy": "2022-07-14T12:20:43.879832Z",
     "iopub.status.idle": "2022-07-14T12:20:48.015370Z",
     "shell.execute_reply": "2022-07-14T12:20:48.014452Z"
    },
    "papermill": {
     "duration": 4.149501,
     "end_time": "2022-07-14T12:20:48.018276",
     "exception": false,
     "start_time": "2022-07-14T12:20:43.868775",
     "status": "completed"
    },
    "tags": []
   },
   "outputs": [
    {
     "name": "stdout",
     "output_type": "stream",
     "text": [
      "Score: 0.0303 RMSLE\n"
     ]
    }
   ],
   "source": [
    "# Try 0, 1, 5, 50\n",
    "m = 50\n",
    "\n",
    "X = df.copy()\n",
    "y = X.pop('SalePrice')\n",
    "\n",
    "# Create an uninformative feature\n",
    "X[\"Count\"] = range(len(X))\n",
    "X[\"Count\"][1] = 0  # actually need one duplicate value to circumvent error-checking in MEstimateEncoder\n",
    "\n",
    "# fit and transform on the same dataset\n",
    "encoder = MEstimateEncoder(cols=\"Count\", m=m)\n",
    "X = encoder.fit_transform(X, y)\n",
    "\n",
    "# Results\n",
    "score =  score_dataset(X, y)\n",
    "print(f\"Score: {score:.4f} RMSLE\")"
   ]
  },
  {
   "cell_type": "code",
   "execution_count": 14,
   "id": "850147fe",
   "metadata": {
    "execution": {
     "iopub.execute_input": "2022-07-14T12:20:48.040925Z",
     "iopub.status.busy": "2022-07-14T12:20:48.040496Z",
     "iopub.status.idle": "2022-07-14T12:20:52.230343Z",
     "shell.execute_reply": "2022-07-14T12:20:52.227828Z"
    },
    "papermill": {
     "duration": 4.204665,
     "end_time": "2022-07-14T12:20:52.234316",
     "exception": false,
     "start_time": "2022-07-14T12:20:48.029651",
     "status": "completed"
    },
    "tags": []
   },
   "outputs": [
    {
     "name": "stdout",
     "output_type": "stream",
     "text": [
      "Score: 0.0293 RMSLE\n"
     ]
    }
   ],
   "source": [
    "# Try 0, 1, 5, 50\n",
    "m = 0\n",
    "\n",
    "X = df.copy()\n",
    "y = X.pop('SalePrice')\n",
    "\n",
    "# Create an uninformative feature\n",
    "X[\"Count\"] = range(len(X))\n",
    "X[\"Count\"][1] = 0  # actually need one duplicate value to circumvent error-checking in MEstimateEncoder\n",
    "\n",
    "# fit and transform on the same dataset\n",
    "encoder = MEstimateEncoder(cols=\"Count\", m=m)\n",
    "X = encoder.fit_transform(X, y)\n",
    "\n",
    "# Results\n",
    "score =  score_dataset(X, y)\n",
    "print(f\"Score: {score:.4f} RMSLE\")"
   ]
  },
  {
   "cell_type": "code",
   "execution_count": 15,
   "id": "38936b66",
   "metadata": {
    "execution": {
     "iopub.execute_input": "2022-07-14T12:20:52.266199Z",
     "iopub.status.busy": "2022-07-14T12:20:52.265233Z",
     "iopub.status.idle": "2022-07-14T12:20:52.637032Z",
     "shell.execute_reply": "2022-07-14T12:20:52.635874Z"
    },
    "papermill": {
     "duration": 0.391988,
     "end_time": "2022-07-14T12:20:52.639658",
     "exception": false,
     "start_time": "2022-07-14T12:20:52.247670",
     "status": "completed"
    },
    "tags": []
   },
   "outputs": [
    {
     "data": {
      "image/png": "[encoded data removed]",
      "text/plain": [
       "<Figure size 540x360 with 1 Axes>"
      ]
     },
     "metadata": {},
     "output_type": "display_data"
    }
   ],
   "source": [
    "plt.figure(dpi=90)\n",
    "ax = sns.distplot(y, kde=True, hist=False)\n",
    "ax = sns.distplot(X[\"Count\"], color='r', ax=ax, hist=True, kde=False, norm_hist=True)\n",
    "ax.set_xlabel(\"SalePrice\");"
   ]
  },
  {
   "cell_type": "markdown",
   "id": "89afe70e",
   "metadata": {
    "papermill": {
     "duration": 0.009712,
     "end_time": "2022-07-14T12:20:52.659606",
     "exception": false,
     "start_time": "2022-07-14T12:20:52.649894",
     "status": "completed"
    },
    "tags": []
   },
   "source": [
    "And the distributions are almost exactly the same, too.\n",
    "\n",
    "# 3) Overfitting with Target Encoders\n",
    "\n",
    "Based on your understanding of how mean-encoding works, can you explain how XGBoost was able to get an almost a perfect fit after mean-encoding the count feature?"
   ]
  },
  {
   "cell_type": "code",
   "execution_count": 16,
   "id": "6cc5fc76",
   "metadata": {
    "execution": {
     "iopub.execute_input": "2022-07-14T12:20:52.681281Z",
     "iopub.status.busy": "2022-07-14T12:20:52.680875Z",
     "iopub.status.idle": "2022-07-14T12:20:52.688838Z",
     "shell.execute_reply": "2022-07-14T12:20:52.688025Z"
    },
    "lines_to_next_cell": 0,
    "papermill": {
     "duration": 0.021214,
     "end_time": "2022-07-14T12:20:52.690860",
     "exception": false,
     "start_time": "2022-07-14T12:20:52.669646",
     "status": "completed"
    },
    "tags": []
   },
   "outputs": [
    {
     "data": {
      "application/javascript": [
       "parent.postMessage({\"jupyterEvent\": \"custom.exercise_interaction\", \"data\": {\"outcomeType\": 1, \"valueTowardsCompletion\": 0.3333333333333333, \"interactionType\": 1, \"questionType\": 4, \"questionId\": \"3_Q3\", \"learnToolsVersion\": \"0.3.4\", \"failureMessage\": \"\", \"exceptionClass\": \"\", \"trace\": \"\"}}, \"*\")"
      ],
      "text/plain": [
       "<IPython.core.display.Javascript object>"
      ]
     },
     "metadata": {},
     "output_type": "display_data"
    },
    {
     "data": {
      "text/markdown": [
       "<span style=\"color:#33cc33\">Correct:</span> \n",
       "\n",
       "\n",
       "Since `Count` never has any duplicate values, the mean-encoded `Count` is essentially an exact copy of the target. In other words, mean-encoding turned a completely meaningless feature into a perfect feature.\n",
       "\n",
       "Now, the only reason this worked is because we trained XGBoost on the same set we used to train the encoder. If we had used a hold-out set instead, none of this \"fake\" encoding would have transferred to the training data.\n",
       "\n",
       "The lesson is that when using a target encoder it's very important to use separate data sets for training the encoder and training the model. Otherwise the results can be very disappointing!\n"
      ],
      "text/plain": [
       "Correct: \n",
       "\n",
       "\n",
       "Since `Count` never has any duplicate values, the mean-encoded `Count` is essentially an exact copy of the target. In other words, mean-encoding turned a completely meaningless feature into a perfect feature.\n",
       "\n",
       "Now, the only reason this worked is because we trained XGBoost on the same set we used to train the encoder. If we had used a hold-out set instead, none of this \"fake\" encoding would have transferred to the training data.\n",
       "\n",
       "The lesson is that when using a target encoder it's very important to use separate data sets for training the encoder and training the model. Otherwise the results can be very disappointing!"
      ]
     },
     "metadata": {},
     "output_type": "display_data"
    }
   ],
   "source": [
    "# View the solution (Run this cell to receive credit!)\n",
    "q_3.check()"
   ]
  },
  {
   "cell_type": "code",
   "execution_count": 17,
   "id": "7a102c62",
   "metadata": {
    "execution": {
     "iopub.execute_input": "2022-07-14T12:20:52.713690Z",
     "iopub.status.busy": "2022-07-14T12:20:52.712971Z",
     "iopub.status.idle": "2022-07-14T12:20:52.717234Z",
     "shell.execute_reply": "2022-07-14T12:20:52.716190Z"
    },
    "papermill": {
     "duration": 0.01828,
     "end_time": "2022-07-14T12:20:52.719382",
     "exception": false,
     "start_time": "2022-07-14T12:20:52.701102",
     "status": "completed"
    },
    "tags": []
   },
   "outputs": [],
   "source": [
    "# Uncomment this if you'd like a hint before seeing the answer\n",
    "#q_3.hint()"
   ]
  },
  {
   "cell_type": "markdown",
   "id": "5845da96",
   "metadata": {
    "papermill": {
     "duration": 0.009979,
     "end_time": "2022-07-14T12:20:52.739699",
     "exception": false,
     "start_time": "2022-07-14T12:20:52.729720",
     "status": "completed"
    },
    "tags": []
   },
   "source": [
    "# The End #\n",
    "\n",
    "That's it for *Feature Engineering*! We hope you enjoyed your time with us.\n",
    "\n",
    "Now, are you ready to try out your new skills? Now would be a great time to join our [Housing Prices](https://www.kaggle.com/c/house-prices-advanced-regression-techniques) Getting Started competition. We've even prepared a [Bonus Lesson](https://www.kaggle.com/ryanholbrook/feature-engineering-for-house-prices) that collects all the work we've done together into a starter notebook.\n",
    "\n",
    "# References #\n",
    "Here are some great resources you might like to consult for more information. They all played a part in shaping this course:\n",
    "- *The Art of Feature Engineering*, a book by Pablo Duboue.\n",
    "- *An Empirical Analysis of Feature Engineering for Predictive Modeling*, an article by Jeff Heaton.\n",
    "- *Feature Engineering for Machine Learning*, a book by Alice Zheng and Amanda Casari. The tutorial on clustering was inspired by this excellent book.\n",
    "- *Feature Engineering and Selection*, a book by Max Kuhn and Kjell Johnson."
   ]
  },
  {
   "cell_type": "markdown",
   "id": "b765cf55",
   "metadata": {
    "papermill": {
     "duration": 0.009989,
     "end_time": "2022-07-14T12:20:52.760110",
     "exception": false,
     "start_time": "2022-07-14T12:20:52.750121",
     "status": "completed"
    },
    "tags": []
   },
   "source": [
    "---\n",
    "\n",
    "\n",
    "\n",
    "\n",
    "*Have questions or comments? Visit the [course discussion forum](https://www.kaggle.com/learn/feature-engineering/discussion) to chat with other learners.*"
   ]
  }
 ],
 "metadata": {
  "kernelspec": {
   "display_name": "Python 3",
   "language": "python",
   "name": "python3"
  },
  "language_info": {
   "codemirror_mode": {
    "name": "ipython",
    "version": 3
   },
   "file_extension": ".py",
   "mimetype": "text/x-python",
   "name": "python",
   "nbconvert_exporter": "python",
   "pygments_lexer": "ipython3",
   "version": "3.7.12"
  },
  "papermill": {
   "default_parameters": {},
   "duration": 44.250956,
   "end_time": "2022-07-14T12:20:53.591969",
   "environment_variables": {},
   "exception": null,
   "input_path": "__notebook__.ipynb",
   "output_path": "__notebook__.ipynb",
   "parameters": {},
   "start_time": "2022-07-14T12:20:09.341013",
   "version": "2.3.4"
  }
 },
 "nbformat": 4,
 "nbformat_minor": 5
}
