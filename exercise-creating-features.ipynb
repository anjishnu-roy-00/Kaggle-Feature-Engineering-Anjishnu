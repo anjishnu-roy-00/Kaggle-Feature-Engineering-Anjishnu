{
 "cells": [
  {
   "cell_type": "markdown",
   "id": "6609a601",
   "metadata": {
    "papermill": {
     "duration": 0.008018,
     "end_time": "2022-07-14T11:39:28.021842",
     "exception": false,
     "start_time": "2022-07-14T11:39:28.013824",
     "status": "completed"
    },
    "tags": []
   },
   "source": [
    "**This notebook is an exercise in the [Feature Engineering](https://www.kaggle.com/learn/feature-engineering) course.  You can reference the tutorial at [this link](https://www.kaggle.com/ryanholbrook/creating-features).**\n",
    "\n",
    "---\n"
   ]
  },
  {
   "cell_type": "markdown",
   "id": "65a67504",
   "metadata": {
    "papermill": {
     "duration": 0.006063,
     "end_time": "2022-07-14T11:39:28.034656",
     "exception": false,
     "start_time": "2022-07-14T11:39:28.028593",
     "status": "completed"
    },
    "tags": []
   },
   "source": [
    "# Introduction #\n",
    "\n",
    "In this exercise you'll start developing the features you identified in Exercise 2 as having the most potential. As you work through this exercise, you might take a moment to look at the data documentation again and consider whether the features we're creating make sense from a real-world perspective, and whether there are any useful combinations that stand out to you.\n",
    "\n",
    "Run this cell to set everything up!"
   ]
  },
  {
   "cell_type": "code",
   "execution_count": 1,
   "id": "a3d1e132",
   "metadata": {
    "execution": {
     "iopub.execute_input": "2022-07-14T11:39:28.050706Z",
     "iopub.status.busy": "2022-07-14T11:39:28.050103Z",
     "iopub.status.idle": "2022-07-14T11:39:29.457447Z",
     "shell.execute_reply": "2022-07-14T11:39:29.456555Z"
    },
    "papermill": {
     "duration": 1.419034,
     "end_time": "2022-07-14T11:39:29.460194",
     "exception": false,
     "start_time": "2022-07-14T11:39:28.041160",
     "status": "completed"
    },
    "tags": []
   },
   "outputs": [],
   "source": [
    "# Setup feedback system\n",
    "from learntools.core import binder\n",
    "binder.bind(globals())\n",
    "from learntools.feature_engineering_new.ex3 import *\n",
    "\n",
    "import numpy as np\n",
    "import pandas as pd\n",
    "from sklearn.model_selection import cross_val_score\n",
    "from xgboost import XGBRegressor\n",
    "\n",
    "\n",
    "def score_dataset(X, y, model=XGBRegressor()):\n",
    "    # Label encoding for categoricals\n",
    "    for colname in X.select_dtypes([\"category\", \"object\"]):\n",
    "        X[colname], _ = X[colname].factorize()\n",
    "    # Metric for Housing competition is RMSLE (Root Mean Squared Log Error)\n",
    "    score = cross_val_score(\n",
    "        model, X, y, cv=5, scoring=\"neg_mean_squared_log_error\",\n",
    "    )\n",
    "    score = -1 * score.mean()\n",
    "    score = np.sqrt(score)\n",
    "    return score\n",
    "\n",
    "\n",
    "# Prepare data\n",
    "df = pd.read_csv(\"../input/fe-course-data/ames.csv\")\n",
    "X = df.copy()\n",
    "y = X.pop(\"SalePrice\")"
   ]
  },
  {
   "cell_type": "markdown",
   "id": "bd86008b",
   "metadata": {
    "papermill": {
     "duration": 0.006177,
     "end_time": "2022-07-14T11:39:29.472906",
     "exception": false,
     "start_time": "2022-07-14T11:39:29.466729",
     "status": "completed"
    },
    "tags": []
   },
   "source": [
    "-------------------------------------------------------------------------------\n",
    "\n",
    "Let's start with a few mathematical combinations. We'll focus on features describing areas -- having the same units (square-feet) makes it easy to combine them in sensible ways. Since we're using XGBoost (a tree-based model), we'll focus on ratios and sums.\n",
    "\n",
    "# 1) Create Mathematical Transforms\n",
    "\n",
    "Create the following features:\n",
    "\n",
    "- `LivLotRatio`: the ratio of `GrLivArea` to `LotArea`\n",
    "- `Spaciousness`: the sum of `FirstFlrSF` and `SecondFlrSF` divided by `TotRmsAbvGrd`\n",
    "- `TotalOutsideSF`: the sum of `WoodDeckSF`, `OpenPorchSF`, `EnclosedPorch`, `Threeseasonporch`, and `ScreenPorch`"
   ]
  },
  {
   "cell_type": "code",
   "execution_count": 2,
   "id": "f0d5964c",
   "metadata": {
    "execution": {
     "iopub.execute_input": "2022-07-14T11:39:29.488050Z",
     "iopub.status.busy": "2022-07-14T11:39:29.486807Z",
     "iopub.status.idle": "2022-07-14T11:39:29.514089Z",
     "shell.execute_reply": "2022-07-14T11:39:29.512809Z"
    },
    "lines_to_next_cell": 0,
    "papermill": {
     "duration": 0.037421,
     "end_time": "2022-07-14T11:39:29.516703",
     "exception": false,
     "start_time": "2022-07-14T11:39:29.479282",
     "status": "completed"
    },
    "tags": []
   },
   "outputs": [
    {
     "data": {
      "application/javascript": [
       "parent.postMessage({\"jupyterEvent\": \"custom.exercise_interaction\", \"data\": {\"outcomeType\": 1, \"valueTowardsCompletion\": 0.2, \"interactionType\": 1, \"questionType\": 2, \"questionId\": \"1_Q1\", \"learnToolsVersion\": \"0.3.4\", \"failureMessage\": \"\", \"exceptionClass\": \"\", \"trace\": \"\"}}, \"*\")"
      ],
      "text/plain": [
       "<IPython.core.display.Javascript object>"
      ]
     },
     "metadata": {},
     "output_type": "display_data"
    },
    {
     "data": {
      "text/markdown": [
       "<span style=\"color:#33cc33\">Correct</span>"
      ],
      "text/plain": [
       "Correct"
      ]
     },
     "metadata": {},
     "output_type": "display_data"
    }
   ],
   "source": [
    "# YOUR CODE HERE\n",
    "X_1 = pd.DataFrame()  # dataframe to hold new features\n",
    "\n",
    "X_1[\"LivLotRatio\"] = df.GrLivArea/df.LotArea\n",
    "X_1[\"Spaciousness\"] = (df.FirstFlrSF+df.SecondFlrSF)/df.TotRmsAbvGrd\n",
    "X_1[\"TotalOutsideSF\"] = df.WoodDeckSF+df.OpenPorchSF+df.EnclosedPorch+df.Threeseasonporch+df.ScreenPorch\n",
    "\n",
    "\n",
    "# Check your answer\n",
    "q_1.check()"
   ]
  },
  {
   "cell_type": "code",
   "execution_count": 3,
   "id": "2dafd86c",
   "metadata": {
    "execution": {
     "iopub.execute_input": "2022-07-14T11:39:29.532143Z",
     "iopub.status.busy": "2022-07-14T11:39:29.531766Z",
     "iopub.status.idle": "2022-07-14T11:39:29.536511Z",
     "shell.execute_reply": "2022-07-14T11:39:29.535459Z"
    },
    "lines_to_next_cell": 0,
    "papermill": {
     "duration": 0.015176,
     "end_time": "2022-07-14T11:39:29.538817",
     "exception": false,
     "start_time": "2022-07-14T11:39:29.523641",
     "status": "completed"
    },
    "tags": []
   },
   "outputs": [],
   "source": [
    "# Lines below will give you a hint or solution code\n",
    "#q_1.hint()\n",
    "#q_1.solution()"
   ]
  },
  {
   "cell_type": "markdown",
   "id": "69c44832",
   "metadata": {
    "papermill": {
     "duration": 0.006733,
     "end_time": "2022-07-14T11:39:29.552369",
     "exception": false,
     "start_time": "2022-07-14T11:39:29.545636",
     "status": "completed"
    },
    "tags": []
   },
   "source": [
    "-------------------------------------------------------------------------------\n",
    "\n",
    "If you've discovered an interaction effect between a numeric feature and a categorical feature, you might want to model it explicitly using a one-hot encoding, like so:\n",
    "\n",
    "```\n",
    "# One-hot encode Categorical feature, adding a column prefix \"Cat\"\n",
    "X_new = pd.get_dummies(df.Categorical, prefix=\"Cat\")\n",
    "\n",
    "# Multiply row-by-row\n",
    "X_new = X_new.mul(df.Continuous, axis=0)\n",
    "\n",
    "# Join the new features to the feature set\n",
    "X = X.join(X_new)\n",
    "```\n",
    "\n",
    "# 2) Interaction with a Categorical\n",
    "\n",
    "We discovered an interaction between `BldgType` and `GrLivArea` in Exercise 2. Now create their interaction features."
   ]
  },
  {
   "cell_type": "code",
   "execution_count": 4,
   "id": "f2393456",
   "metadata": {
    "execution": {
     "iopub.execute_input": "2022-07-14T11:39:29.567275Z",
     "iopub.status.busy": "2022-07-14T11:39:29.566900Z",
     "iopub.status.idle": "2022-07-14T11:39:29.581123Z",
     "shell.execute_reply": "2022-07-14T11:39:29.579946Z"
    },
    "lines_to_next_cell": 0,
    "papermill": {
     "duration": 0.02434,
     "end_time": "2022-07-14T11:39:29.583333",
     "exception": false,
     "start_time": "2022-07-14T11:39:29.558993",
     "status": "completed"
    },
    "tags": []
   },
   "outputs": [
    {
     "data": {
      "application/javascript": [
       "parent.postMessage({\"jupyterEvent\": \"custom.exercise_interaction\", \"data\": {\"outcomeType\": 1, \"valueTowardsCompletion\": 0.2, \"interactionType\": 1, \"questionType\": 2, \"questionId\": \"2_Q2\", \"learnToolsVersion\": \"0.3.4\", \"failureMessage\": \"\", \"exceptionClass\": \"\", \"trace\": \"\"}}, \"*\")"
      ],
      "text/plain": [
       "<IPython.core.display.Javascript object>"
      ]
     },
     "metadata": {},
     "output_type": "display_data"
    },
    {
     "data": {
      "text/markdown": [
       "<span style=\"color:#33cc33\">Correct</span>"
      ],
      "text/plain": [
       "Correct"
      ]
     },
     "metadata": {},
     "output_type": "display_data"
    }
   ],
   "source": [
    "# YOUR CODE HERE\n",
    "# One-hot encode BldgType. Use `prefix=\"Bldg\"` in `get_dummies`\n",
    "X_2 = pd.get_dummies(df.BldgType, prefix=\"Bldg\") \n",
    "# Multiply\n",
    "X_2 = X_2.mul(df.GrLivArea, axis=0)\n",
    "\n",
    "\n",
    "# Check your answer\n",
    "q_2.check()"
   ]
  },
  {
   "cell_type": "code",
   "execution_count": 5,
   "id": "c9bef43d",
   "metadata": {
    "execution": {
     "iopub.execute_input": "2022-07-14T11:39:29.598373Z",
     "iopub.status.busy": "2022-07-14T11:39:29.598001Z",
     "iopub.status.idle": "2022-07-14T11:39:29.602815Z",
     "shell.execute_reply": "2022-07-14T11:39:29.601633Z"
    },
    "lines_to_next_cell": 0,
    "papermill": {
     "duration": 0.015,
     "end_time": "2022-07-14T11:39:29.605054",
     "exception": false,
     "start_time": "2022-07-14T11:39:29.590054",
     "status": "completed"
    },
    "tags": []
   },
   "outputs": [],
   "source": [
    "# Lines below will give you a hint or solution code\n",
    "#q_2.hint()\n",
    "#q_2.solution()"
   ]
  },
  {
   "cell_type": "markdown",
   "id": "1c1ad904",
   "metadata": {
    "lines_to_next_cell": 0,
    "papermill": {
     "duration": 0.006509,
     "end_time": "2022-07-14T11:39:29.618444",
     "exception": false,
     "start_time": "2022-07-14T11:39:29.611935",
     "status": "completed"
    },
    "tags": []
   },
   "source": [
    "# 3) Count Feature\n",
    "\n",
    "Let's try creating a feature that describes how many kinds of outdoor areas a dwelling has. Create a feature `PorchTypes` that counts how many of the following are greater than 0.0:\n",
    "\n",
    "```\n",
    "WoodDeckSF\n",
    "OpenPorchSF\n",
    "EnclosedPorch\n",
    "Threeseasonporch\n",
    "ScreenPorch\n",
    "```"
   ]
  },
  {
   "cell_type": "code",
   "execution_count": 6,
   "id": "52e1d979",
   "metadata": {
    "execution": {
     "iopub.execute_input": "2022-07-14T11:39:29.633967Z",
     "iopub.status.busy": "2022-07-14T11:39:29.633008Z",
     "iopub.status.idle": "2022-07-14T11:39:29.650997Z",
     "shell.execute_reply": "2022-07-14T11:39:29.650122Z"
    },
    "lines_to_next_cell": 0,
    "papermill": {
     "duration": 0.027955,
     "end_time": "2022-07-14T11:39:29.653071",
     "exception": false,
     "start_time": "2022-07-14T11:39:29.625116",
     "status": "completed"
    },
    "tags": []
   },
   "outputs": [
    {
     "data": {
      "application/javascript": [
       "parent.postMessage({\"jupyterEvent\": \"custom.exercise_interaction\", \"data\": {\"outcomeType\": 1, \"valueTowardsCompletion\": 0.2, \"interactionType\": 1, \"questionType\": 2, \"questionId\": \"3_Q3\", \"learnToolsVersion\": \"0.3.4\", \"failureMessage\": \"\", \"exceptionClass\": \"\", \"trace\": \"\"}}, \"*\")"
      ],
      "text/plain": [
       "<IPython.core.display.Javascript object>"
      ]
     },
     "metadata": {},
     "output_type": "display_data"
    },
    {
     "data": {
      "text/markdown": [
       "<span style=\"color:#33cc33\">Correct</span>"
      ],
      "text/plain": [
       "Correct"
      ]
     },
     "metadata": {},
     "output_type": "display_data"
    }
   ],
   "source": [
    "X_3 = pd.DataFrame()\n",
    "\n",
    "# YOUR CODE HERE\n",
    "X_3[\"PorchTypes\"] = df[[\n",
    "    \"WoodDeckSF\",\n",
    "    \"OpenPorchSF\",\n",
    "    \"EnclosedPorch\",\n",
    "    \"Threeseasonporch\",\n",
    "    \"ScreenPorch\",\n",
    "]].gt(0.0).sum(axis=1)\n",
    "\n",
    "\n",
    "# Check your answer\n",
    "q_3.check()"
   ]
  },
  {
   "cell_type": "code",
   "execution_count": 7,
   "id": "1aa13a20",
   "metadata": {
    "execution": {
     "iopub.execute_input": "2022-07-14T11:39:29.668767Z",
     "iopub.status.busy": "2022-07-14T11:39:29.668368Z",
     "iopub.status.idle": "2022-07-14T11:39:29.672270Z",
     "shell.execute_reply": "2022-07-14T11:39:29.671231Z"
    },
    "lines_to_next_cell": 0,
    "papermill": {
     "duration": 0.014413,
     "end_time": "2022-07-14T11:39:29.674456",
     "exception": false,
     "start_time": "2022-07-14T11:39:29.660043",
     "status": "completed"
    },
    "tags": []
   },
   "outputs": [],
   "source": [
    "# Lines below will give you a hint or solution code\n",
    "#q_3.hint()\n",
    "#q_3.solution()"
   ]
  },
  {
   "cell_type": "markdown",
   "id": "a9182003",
   "metadata": {
    "papermill": {
     "duration": 0.007498,
     "end_time": "2022-07-14T11:39:29.689250",
     "exception": false,
     "start_time": "2022-07-14T11:39:29.681752",
     "status": "completed"
    },
    "tags": []
   },
   "source": [
    "# 4) Break Down a Categorical Feature\n",
    "\n",
    "`MSSubClass` describes the type of a dwelling:"
   ]
  },
  {
   "cell_type": "code",
   "execution_count": 8,
   "id": "934f70c9",
   "metadata": {
    "execution": {
     "iopub.execute_input": "2022-07-14T11:39:29.705684Z",
     "iopub.status.busy": "2022-07-14T11:39:29.705304Z",
     "iopub.status.idle": "2022-07-14T11:39:29.712146Z",
     "shell.execute_reply": "2022-07-14T11:39:29.711337Z"
    },
    "papermill": {
     "duration": 0.017534,
     "end_time": "2022-07-14T11:39:29.714132",
     "exception": false,
     "start_time": "2022-07-14T11:39:29.696598",
     "status": "completed"
    },
    "tags": []
   },
   "outputs": [
    {
     "data": {
      "text/plain": [
       "array(['One_Story_1946_and_Newer_All_Styles', 'Two_Story_1946_and_Newer',\n",
       "       'One_Story_PUD_1946_and_Newer',\n",
       "       'One_and_Half_Story_Finished_All_Ages', 'Split_Foyer',\n",
       "       'Two_Story_PUD_1946_and_Newer', 'Split_or_Multilevel',\n",
       "       'One_Story_1945_and_Older', 'Duplex_All_Styles_and_Ages',\n",
       "       'Two_Family_conversion_All_Styles_and_Ages',\n",
       "       'One_and_Half_Story_Unfinished_All_Ages',\n",
       "       'Two_Story_1945_and_Older', 'Two_and_Half_Story_All_Ages',\n",
       "       'One_Story_with_Finished_Attic_All_Ages',\n",
       "       'PUD_Multilevel_Split_Level_Foyer',\n",
       "       'One_and_Half_Story_PUD_All_Ages'], dtype=object)"
      ]
     },
     "execution_count": 8,
     "metadata": {},
     "output_type": "execute_result"
    }
   ],
   "source": [
    "df.MSSubClass.unique()"
   ]
  },
  {
   "cell_type": "markdown",
   "id": "d9b96ca5",
   "metadata": {
    "papermill": {
     "duration": 0.007135,
     "end_time": "2022-07-14T11:39:29.729821",
     "exception": false,
     "start_time": "2022-07-14T11:39:29.722686",
     "status": "completed"
    },
    "tags": []
   },
   "source": [
    "You can see that there is a more general categorization described (roughly) by the first word of each category. Create a feature containing only these first words by splitting `MSSubClass` at the first underscore `_`. (Hint: In the `split` method use an argument `n=1`.)"
   ]
  },
  {
   "cell_type": "code",
   "execution_count": 9,
   "id": "63c00852",
   "metadata": {
    "execution": {
     "iopub.execute_input": "2022-07-14T11:39:29.746497Z",
     "iopub.status.busy": "2022-07-14T11:39:29.746145Z",
     "iopub.status.idle": "2022-07-14T11:39:29.774786Z",
     "shell.execute_reply": "2022-07-14T11:39:29.773624Z"
    },
    "lines_to_next_cell": 0,
    "papermill": {
     "duration": 0.040051,
     "end_time": "2022-07-14T11:39:29.777194",
     "exception": false,
     "start_time": "2022-07-14T11:39:29.737143",
     "status": "completed"
    },
    "tags": []
   },
   "outputs": [
    {
     "data": {
      "application/javascript": [
       "parent.postMessage({\"jupyterEvent\": \"custom.exercise_interaction\", \"data\": {\"outcomeType\": 1, \"valueTowardsCompletion\": 0.2, \"interactionType\": 1, \"questionType\": 2, \"questionId\": \"4_Q4\", \"learnToolsVersion\": \"0.3.4\", \"failureMessage\": \"\", \"exceptionClass\": \"\", \"trace\": \"\"}}, \"*\")"
      ],
      "text/plain": [
       "<IPython.core.display.Javascript object>"
      ]
     },
     "metadata": {},
     "output_type": "display_data"
    },
    {
     "data": {
      "text/markdown": [
       "<span style=\"color:#33cc33\">Correct</span>"
      ],
      "text/plain": [
       "Correct"
      ]
     },
     "metadata": {},
     "output_type": "display_data"
    }
   ],
   "source": [
    "X_4 = pd.DataFrame()\n",
    "\n",
    "# YOUR CODE HERE\n",
    "X_4[\"MSClass\"] = df.MSSubClass.str.split(\"_\", n=1, expand=True)[0]\n",
    "\n",
    "# Check your answer\n",
    "q_4.check()"
   ]
  },
  {
   "cell_type": "code",
   "execution_count": 10,
   "id": "8987697a",
   "metadata": {
    "execution": {
     "iopub.execute_input": "2022-07-14T11:39:29.794404Z",
     "iopub.status.busy": "2022-07-14T11:39:29.794009Z",
     "iopub.status.idle": "2022-07-14T11:39:29.798350Z",
     "shell.execute_reply": "2022-07-14T11:39:29.797195Z"
    },
    "lines_to_next_cell": 0,
    "papermill": {
     "duration": 0.015427,
     "end_time": "2022-07-14T11:39:29.800646",
     "exception": false,
     "start_time": "2022-07-14T11:39:29.785219",
     "status": "completed"
    },
    "tags": []
   },
   "outputs": [],
   "source": [
    "# Lines below will give you a hint or solution code\n",
    "#q_4.hint()\n",
    "#q_4.solution()"
   ]
  },
  {
   "cell_type": "markdown",
   "id": "c38a44fe",
   "metadata": {
    "papermill": {
     "duration": 0.007137,
     "end_time": "2022-07-14T11:39:29.815265",
     "exception": false,
     "start_time": "2022-07-14T11:39:29.808128",
     "status": "completed"
    },
    "tags": []
   },
   "source": [
    "# 5) Use a Grouped Transform\n",
    "\n",
    "The value of a home often depends on how it compares to typical homes in its neighborhood. Create a feature `MedNhbdArea` that describes the *median* of `GrLivArea` grouped on `Neighborhood`."
   ]
  },
  {
   "cell_type": "code",
   "execution_count": 11,
   "id": "5f65f87b",
   "metadata": {
    "execution": {
     "iopub.execute_input": "2022-07-14T11:39:29.832892Z",
     "iopub.status.busy": "2022-07-14T11:39:29.831975Z",
     "iopub.status.idle": "2022-07-14T11:39:29.852411Z",
     "shell.execute_reply": "2022-07-14T11:39:29.851202Z"
    },
    "lines_to_next_cell": 0,
    "papermill": {
     "duration": 0.032052,
     "end_time": "2022-07-14T11:39:29.854800",
     "exception": false,
     "start_time": "2022-07-14T11:39:29.822748",
     "status": "completed"
    },
    "tags": []
   },
   "outputs": [
    {
     "data": {
      "application/javascript": [
       "parent.postMessage({\"jupyterEvent\": \"custom.exercise_interaction\", \"data\": {\"outcomeType\": 1, \"valueTowardsCompletion\": 0.2, \"interactionType\": 1, \"questionType\": 2, \"questionId\": \"5_Q5\", \"learnToolsVersion\": \"0.3.4\", \"failureMessage\": \"\", \"exceptionClass\": \"\", \"trace\": \"\"}}, \"*\")"
      ],
      "text/plain": [
       "<IPython.core.display.Javascript object>"
      ]
     },
     "metadata": {},
     "output_type": "display_data"
    },
    {
     "data": {
      "text/markdown": [
       "<span style=\"color:#33cc33\">Correct</span>"
      ],
      "text/plain": [
       "Correct"
      ]
     },
     "metadata": {},
     "output_type": "display_data"
    }
   ],
   "source": [
    "X_5 = pd.DataFrame()\n",
    "\n",
    "# YOUR CODE HERE\n",
    "X_5[\"MedNhbdArea\"] = df.groupby(\"Neighborhood\")[\"GrLivArea\"].transform(\"median\")\n",
    "\n",
    "# Check your answer\n",
    "q_5.check()"
   ]
  },
  {
   "cell_type": "code",
   "execution_count": 12,
   "id": "71e70665",
   "metadata": {
    "execution": {
     "iopub.execute_input": "2022-07-14T11:39:29.872783Z",
     "iopub.status.busy": "2022-07-14T11:39:29.872381Z",
     "iopub.status.idle": "2022-07-14T11:39:29.876354Z",
     "shell.execute_reply": "2022-07-14T11:39:29.875424Z"
    },
    "lines_to_next_cell": 0,
    "papermill": {
     "duration": 0.015361,
     "end_time": "2022-07-14T11:39:29.878277",
     "exception": false,
     "start_time": "2022-07-14T11:39:29.862916",
     "status": "completed"
    },
    "tags": []
   },
   "outputs": [],
   "source": [
    "# Lines below will give you a hint or solution code\n",
    "#q_5.hint()\n",
    "#q_5.solution()"
   ]
  },
  {
   "cell_type": "markdown",
   "id": "ede1034a",
   "metadata": {
    "papermill": {
     "duration": 0.007526,
     "end_time": "2022-07-14T11:39:29.893750",
     "exception": false,
     "start_time": "2022-07-14T11:39:29.886224",
     "status": "completed"
    },
    "tags": []
   },
   "source": [
    "Now you've made your first new feature set! If you like, you can run the cell below to score the model with all of your new features added:"
   ]
  },
  {
   "cell_type": "code",
   "execution_count": 13,
   "id": "3c3637a6",
   "metadata": {
    "execution": {
     "iopub.execute_input": "2022-07-14T11:39:29.911214Z",
     "iopub.status.busy": "2022-07-14T11:39:29.910844Z",
     "iopub.status.idle": "2022-07-14T11:39:34.497223Z",
     "shell.execute_reply": "2022-07-14T11:39:34.496055Z"
    },
    "papermill": {
     "duration": 4.598395,
     "end_time": "2022-07-14T11:39:34.499937",
     "exception": false,
     "start_time": "2022-07-14T11:39:29.901542",
     "status": "completed"
    },
    "tags": []
   },
   "outputs": [
    {
     "data": {
      "text/plain": [
       "0.13847331710099203"
      ]
     },
     "execution_count": 13,
     "metadata": {},
     "output_type": "execute_result"
    }
   ],
   "source": [
    "X_new = X.join([X_1, X_2, X_3, X_4, X_5])\n",
    "score_dataset(X_new, y)"
   ]
  },
  {
   "cell_type": "markdown",
   "id": "4196169d",
   "metadata": {
    "papermill": {
     "duration": 0.00799,
     "end_time": "2022-07-14T11:39:34.517082",
     "exception": false,
     "start_time": "2022-07-14T11:39:34.509092",
     "status": "completed"
    },
    "tags": []
   },
   "source": [
    "# Keep Going #\n",
    "\n",
    "[**Untangle spatial relationships**](https://www.kaggle.com/ryanholbrook/clustering-with-k-means) by adding cluster labels to your dataset."
   ]
  },
  {
   "cell_type": "markdown",
   "id": "378ec250",
   "metadata": {
    "papermill": {
     "duration": 0.007755,
     "end_time": "2022-07-14T11:39:34.532993",
     "exception": false,
     "start_time": "2022-07-14T11:39:34.525238",
     "status": "completed"
    },
    "tags": []
   },
   "source": [
    "---\n",
    "\n",
    "\n",
    "\n",
    "\n",
    "*Have questions or comments? Visit the [course discussion forum](https://www.kaggle.com/learn/feature-engineering/discussion) to chat with other learners.*"
   ]
  }
 ],
 "metadata": {
  "kernelspec": {
   "display_name": "Python 3",
   "language": "python",
   "name": "python3"
  },
  "language_info": {
   "codemirror_mode": {
    "name": "ipython",
    "version": 3
   },
   "file_extension": ".py",
   "mimetype": "text/x-python",
   "name": "python",
   "nbconvert_exporter": "python",
   "pygments_lexer": "ipython3",
   "version": "3.7.12"
  },
  "papermill": {
   "default_parameters": {},
   "duration": 17.398117,
   "end_time": "2022-07-14T11:39:35.263428",
   "environment_variables": {},
   "exception": null,
   "input_path": "__notebook__.ipynb",
   "output_path": "__notebook__.ipynb",
   "parameters": {},
   "start_time": "2022-07-14T11:39:17.865311",
   "version": "2.3.4"
  }
 },
 "nbformat": 4,
 "nbformat_minor": 5
}
